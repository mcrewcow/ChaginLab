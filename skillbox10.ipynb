{
  "nbformat": 4,
  "nbformat_minor": 0,
  "metadata": {
    "colab": {
      "name": "skillbox10.ipynb",
      "provenance": [],
      "authorship_tag": "ABX9TyOIkIye6Y/KuzvC6baqt++Q",
      "include_colab_link": true
    },
    "kernelspec": {
      "name": "python3",
      "display_name": "Python 3"
    },
    "language_info": {
      "name": "python"
    }
  },
  "cells": [
    {
      "cell_type": "markdown",
      "metadata": {
        "id": "view-in-github",
        "colab_type": "text"
      },
      "source": [
        "<a href=\"https://colab.research.google.com/github/mcrewcow/ChaginLab/blob/main/skillbox10.ipynb\" target=\"_parent\"><img src=\"https://colab.research.google.com/assets/colab-badge.svg\" alt=\"Open In Colab\"/></a>"
      ]
    },
    {
      "cell_type": "code",
      "metadata": {
        "id": "mdT9hrgLCkex"
      },
      "source": [
        "from sympy import *\n",
        "import numpy"
      ],
      "execution_count": 28,
      "outputs": []
    },
    {
      "cell_type": "code",
      "metadata": {
        "id": "Ncjq9N8TDA_V"
      },
      "source": [
        "a1, a2 = symbols('a1,a2')"
      ],
      "execution_count": 3,
      "outputs": []
    },
    {
      "cell_type": "code",
      "metadata": {
        "id": "raRaLiVdDCzj"
      },
      "source": [
        "eq1 = -a1 + 7 * a2 + 34"
      ],
      "execution_count": 5,
      "outputs": []
    },
    {
      "cell_type": "code",
      "metadata": {
        "id": "Zqan_uR2DO6C"
      },
      "source": [
        "eq2 = 8 * a1 + 8 * a2 + 48"
      ],
      "execution_count": 6,
      "outputs": []
    },
    {
      "cell_type": "code",
      "metadata": {
        "colab": {
          "base_uri": "https://localhost:8080/",
          "height": 37
        },
        "id": "MMQhxMQyDUDx",
        "outputId": "074bbba7-d463-4904-faa6-b16b5e0f5a59"
      },
      "source": [
        "nonlinsolve([eq1,eq2],[a1,a2])"
      ],
      "execution_count": 7,
      "outputs": [
        {
          "output_type": "execute_result",
          "data": {
            "text/latex": "$\\displaystyle \\left\\{\\left( -1, \\  -5\\right)\\right\\}$",
            "text/plain": [
              "FiniteSet((-1, -5))"
            ]
          },
          "metadata": {
            "tags": []
          },
          "execution_count": 7
        }
      ]
    },
    {
      "cell_type": "code",
      "metadata": {
        "colab": {
          "base_uri": "https://localhost:8080/",
          "height": 37
        },
        "id": "N1Tw2zpcDXtw",
        "outputId": "3d973e74-b105-4f09-fa17-800d1a46628f"
      },
      "source": [
        "eq3 = 4 * a1 + 7 * a2 + 4\n",
        "eq4 = 3 * a1 - 4 * a2 + 3\n",
        "nonlinsolve([eq3,eq4],[a1,a2])"
      ],
      "execution_count": 9,
      "outputs": [
        {
          "output_type": "execute_result",
          "data": {
            "text/latex": "$\\displaystyle \\left\\{\\left( -1, \\  0\\right)\\right\\}$",
            "text/plain": [
              "FiniteSet((-1, 0))"
            ]
          },
          "metadata": {
            "tags": []
          },
          "execution_count": 9
        }
      ]
    },
    {
      "cell_type": "code",
      "metadata": {
        "colab": {
          "base_uri": "https://localhost:8080/",
          "height": 37
        },
        "id": "w9VSF7vADnFw",
        "outputId": "eff22d29-555c-4d4f-d3bc-d14dfc87f04b"
      },
      "source": [
        "eq5 = 8 * a1 - 4 * a2 - 64\n",
        "eq6 = -3 * a1 + 3 * a2 + 21\n",
        "nonlinsolve([eq5,eq6],[a1,a2])"
      ],
      "execution_count": 11,
      "outputs": [
        {
          "output_type": "execute_result",
          "data": {
            "text/latex": "$\\displaystyle \\left\\{\\left( 9, \\  2\\right)\\right\\}$",
            "text/plain": [
              "FiniteSet((9, 2))"
            ]
          },
          "metadata": {
            "tags": []
          },
          "execution_count": 11
        }
      ]
    },
    {
      "cell_type": "code",
      "metadata": {
        "colab": {
          "base_uri": "https://localhost:8080/",
          "height": 37
        },
        "id": "p7ACTLjFD8PW",
        "outputId": "0954ab3f-ff41-4511-aed4-7d626fb89927"
      },
      "source": [
        "x1,x2,x3 = symbols('x1,x2,x3')\n",
        "eqq1 = 5 * x1 + 7 * x2 - 5 * x3 + 47\n",
        "eqq2 = -2 * x2 + 2 * x3 - 10\n",
        "eqq3 = -4 * x1 - 8 * x2 -7 * x3 - 63\n",
        "nonlinsolve([eqq1,eqq2,eqq3],[x1,x2,x3])"
      ],
      "execution_count": 12,
      "outputs": [
        {
          "output_type": "execute_result",
          "data": {
            "text/latex": "$\\displaystyle \\left\\{\\left( -2, \\  -6, \\  -1\\right)\\right\\}$",
            "text/plain": [
              "FiniteSet((-2, -6, -1))"
            ]
          },
          "metadata": {
            "tags": []
          },
          "execution_count": 12
        }
      ]
    },
    {
      "cell_type": "code",
      "metadata": {
        "colab": {
          "base_uri": "https://localhost:8080/",
          "height": 58
        },
        "id": "-wICPAvLEUq8",
        "outputId": "60f71e42-457b-4de8-f172-9e3e8a870f43"
      },
      "source": [
        "x = Matrix([[-1,7],[8,8]])\n",
        "x"
      ],
      "execution_count": 13,
      "outputs": [
        {
          "output_type": "execute_result",
          "data": {
            "text/latex": "$\\displaystyle \\left[\\begin{matrix}-1 & 7\\\\8 & 8\\end{matrix}\\right]$",
            "text/plain": [
              "Matrix([\n",
              "[-1, 7],\n",
              "[ 8, 8]])"
            ]
          },
          "metadata": {
            "tags": []
          },
          "execution_count": 13
        }
      ]
    },
    {
      "cell_type": "code",
      "metadata": {
        "colab": {
          "base_uri": "https://localhost:8080/",
          "height": 58
        },
        "id": "aCLMsqZiEj4p",
        "outputId": "e94e2cce-c546-461d-b97f-481382fb81ec"
      },
      "source": [
        "mnozh = Matrix([-1,-5])\n",
        "mnozh"
      ],
      "execution_count": 14,
      "outputs": [
        {
          "output_type": "execute_result",
          "data": {
            "text/latex": "$\\displaystyle \\left[\\begin{matrix}-1\\\\-5\\end{matrix}\\right]$",
            "text/plain": [
              "Matrix([\n",
              "[-1],\n",
              "[-5]])"
            ]
          },
          "metadata": {
            "tags": []
          },
          "execution_count": 14
        }
      ]
    },
    {
      "cell_type": "code",
      "metadata": {
        "colab": {
          "base_uri": "https://localhost:8080/",
          "height": 58
        },
        "id": "c5pO-HOKEv1Y",
        "outputId": "e8f6b925-28a3-4370-ea87-957aba2fd9bf"
      },
      "source": [
        "x * mnozh"
      ],
      "execution_count": 15,
      "outputs": [
        {
          "output_type": "execute_result",
          "data": {
            "text/latex": "$\\displaystyle \\left[\\begin{matrix}-34\\\\-48\\end{matrix}\\right]$",
            "text/plain": [
              "Matrix([\n",
              "[-34],\n",
              "[-48]])"
            ]
          },
          "metadata": {
            "tags": []
          },
          "execution_count": 15
        }
      ]
    },
    {
      "cell_type": "code",
      "metadata": {
        "colab": {
          "base_uri": "https://localhost:8080/",
          "height": 58
        },
        "id": "zZVh5s-IExJc",
        "outputId": "18d9df97-9949-4d9e-e2bb-5c0c1adc98c6"
      },
      "source": [
        "x4 = Matrix([[4,-7],[3,-4]])\n",
        "mnozh1 = Matrix([-1,0])\n",
        "x4 * mnozh1"
      ],
      "execution_count": 16,
      "outputs": [
        {
          "output_type": "execute_result",
          "data": {
            "text/latex": "$\\displaystyle \\left[\\begin{matrix}-4\\\\-3\\end{matrix}\\right]$",
            "text/plain": [
              "Matrix([\n",
              "[-4],\n",
              "[-3]])"
            ]
          },
          "metadata": {
            "tags": []
          },
          "execution_count": 16
        }
      ]
    },
    {
      "cell_type": "code",
      "metadata": {
        "colab": {
          "base_uri": "https://localhost:8080/",
          "height": 58
        },
        "id": "Kj6Rjn4WFTLz",
        "outputId": "6fb224b2-f670-4ace-f3c3-b5848e2e3528"
      },
      "source": [
        "x5 = Matrix([[8,-4],[-3,3]])\n",
        "mnozh2 = Matrix([9,2])\n",
        "x5 * mnozh2"
      ],
      "execution_count": 18,
      "outputs": [
        {
          "output_type": "execute_result",
          "data": {
            "text/latex": "$\\displaystyle \\left[\\begin{matrix}64\\\\-21\\end{matrix}\\right]$",
            "text/plain": [
              "Matrix([\n",
              "[ 64],\n",
              "[-21]])"
            ]
          },
          "metadata": {
            "tags": []
          },
          "execution_count": 18
        }
      ]
    },
    {
      "cell_type": "code",
      "metadata": {
        "colab": {
          "base_uri": "https://localhost:8080/",
          "height": 78
        },
        "id": "isiEoRsMFjaA",
        "outputId": "ce131059-b67a-42a4-a910-0a571957beee"
      },
      "source": [
        "x6 = Matrix([[5,7,-5],[0,-2,2],[-4,-8,-7]])\n",
        "mnozh3 = Matrix([-2,-6,-1])\n",
        "x6 * mnozh3"
      ],
      "execution_count": 19,
      "outputs": [
        {
          "output_type": "execute_result",
          "data": {
            "text/latex": "$\\displaystyle \\left[\\begin{matrix}-47\\\\10\\\\63\\end{matrix}\\right]$",
            "text/plain": [
              "Matrix([\n",
              "[-47],\n",
              "[ 10],\n",
              "[ 63]])"
            ]
          },
          "metadata": {
            "tags": []
          },
          "execution_count": 19
        }
      ]
    },
    {
      "cell_type": "code",
      "metadata": {
        "id": "t3dvCuiyF1Wr"
      },
      "source": [
        "x, y, z = symbols('x,y,z')\n",
        "MSE = 1/6 * ((5 * x + 7 * y - 5 * z + 47) ** 2 + \\\n",
        "             (-2 * y + 2 * z - 10)**2 + \\\n",
        "             (-4 * x - 8 * y - 7 * z - 63)**2 + \\\n",
        "             (x + y + 2 * z + 1)**2 + \\\n",
        "             (2 * x - y + 2 * z + 4) ** 2 + \\\n",
        "             (4 * x + y + 4 * z + 2)**2)"
      ],
      "execution_count": 20,
      "outputs": []
    },
    {
      "cell_type": "code",
      "metadata": {
        "colab": {
          "base_uri": "https://localhost:8080/",
          "height": 37
        },
        "id": "9AfQoDX1G6jx",
        "outputId": "73c1ee0d-cc6e-42c4-b375-7bf5fb0c7042"
      },
      "source": [
        "MSE.subs({x:0,y:0,z:0})"
      ],
      "execution_count": 21,
      "outputs": [
        {
          "output_type": "execute_result",
          "data": {
            "text/latex": "$\\displaystyle 1049.83333333333$",
            "text/plain": [
              "1049.83333333333"
            ]
          },
          "metadata": {
            "tags": []
          },
          "execution_count": 21
        }
      ]
    },
    {
      "cell_type": "code",
      "metadata": {
        "colab": {
          "base_uri": "https://localhost:8080/",
          "height": 38
        },
        "id": "v59sxJPEG_9m",
        "outputId": "c7b844ba-792a-4190-f6bc-cc73c694565f"
      },
      "source": [
        "MSEx = diff(MSE,x)\n",
        "MSEx"
      ],
      "execution_count": 22,
      "outputs": [
        {
          "output_type": "execute_result",
          "data": {
            "text/latex": "$\\displaystyle 20.6666666666667 x + 23.3333333333333 y + 8.33333333333333 z + 168.0$",
            "text/plain": [
              "20.6666666666667*x + 23.3333333333333*y + 8.33333333333333*z + 168.0"
            ]
          },
          "metadata": {
            "tags": []
          },
          "execution_count": 22
        }
      ]
    },
    {
      "cell_type": "code",
      "metadata": {
        "colab": {
          "base_uri": "https://localhost:8080/",
          "height": 38
        },
        "id": "D5p3JuB-HGJC",
        "outputId": "b60cfe33-f2fd-416a-b474-f29480e9006e"
      },
      "source": [
        "MSEy = diff(MSE,y)\n",
        "MSEy"
      ],
      "execution_count": 23,
      "outputs": [
        {
          "output_type": "execute_result",
          "data": {
            "text/latex": "$\\displaystyle 23.3333333333333 x + 40.0 y + 6.99999999999999 z + 284.0$",
            "text/plain": [
              "23.3333333333333*x + 40.0*y + 6.99999999999999*z + 284.0"
            ]
          },
          "metadata": {
            "tags": []
          },
          "execution_count": 23
        }
      ]
    },
    {
      "cell_type": "code",
      "metadata": {
        "colab": {
          "base_uri": "https://localhost:8080/",
          "height": 38
        },
        "id": "yg6X7s17HIQD",
        "outputId": "9727fc6d-95b7-4f09-c4f7-7531d1e773f4"
      },
      "source": [
        "MSEz = diff(MSE,z)\n",
        "MSEz"
      ],
      "execution_count": 24,
      "outputs": [
        {
          "output_type": "execute_result",
          "data": {
            "text/latex": "$\\displaystyle 8.33333333333333 x + 6.99999999999999 y + 34.0 z + 68.0$",
            "text/plain": [
              "8.33333333333333*x + 6.99999999999999*y + 34.0*z + 68.0"
            ]
          },
          "metadata": {
            "tags": []
          },
          "execution_count": 24
        }
      ]
    },
    {
      "cell_type": "code",
      "metadata": {
        "id": "gh-nhitCHKZL"
      },
      "source": [
        "step = 0.01"
      ],
      "execution_count": 183,
      "outputs": []
    },
    {
      "cell_type": "code",
      "metadata": {
        "id": "Q_2ltq_7KQ2k"
      },
      "source": [
        ""
      ],
      "execution_count": null,
      "outputs": []
    },
    {
      "cell_type": "code",
      "metadata": {
        "colab": {
          "base_uri": "https://localhost:8080/"
        },
        "id": "lPSfVHSnHQs-",
        "outputId": "689b1829-36c9-492a-ab2e-c9004f1e22dc"
      },
      "source": [
        "point = next_point\n",
        "point"
      ],
      "execution_count": 184,
      "outputs": [
        {
          "output_type": "execute_result",
          "data": {
            "text/plain": [
              "array([-2.23017393855227, -5.78329893223984, 0.132468331754096],\n",
              "      dtype=object)"
            ]
          },
          "metadata": {
            "tags": []
          },
          "execution_count": 184
        }
      ]
    },
    {
      "cell_type": "code",
      "metadata": {
        "colab": {
          "base_uri": "https://localhost:8080/"
        },
        "id": "LtHcl3nDHVvM",
        "outputId": "e24a090c-4332-413d-91fb-bafcd15b7b71"
      },
      "source": [
        "grad = numpy.array([MSEx.subs({x:point[0],y:point[1],z:point[2]}),\n",
        "                    MSEy.subs({x:point[0],y:point[1],z:point[2]}),\n",
        "                    MSEz.subs({x:point[0],y:point[1],z:point[2]})])\n",
        "grad"
      ],
      "execution_count": 185,
      "outputs": [
        {
          "output_type": "execute_result",
          "data": {
            "text/plain": [
              "array([-11.9300003843923, 1.55792913313231, 13.4360479326915],\n",
              "      dtype=object)"
            ]
          },
          "metadata": {
            "tags": []
          },
          "execution_count": 185
        }
      ]
    },
    {
      "cell_type": "code",
      "metadata": {
        "colab": {
          "base_uri": "https://localhost:8080/"
        },
        "id": "HDhFu9LaIWZ-",
        "outputId": "ffd886cc-003e-4a05-c806-e3ab01e6a0db"
      },
      "source": [
        "next_point = point - step * grad\n",
        "next_point"
      ],
      "execution_count": 186,
      "outputs": [
        {
          "output_type": "execute_result",
          "data": {
            "text/plain": [
              "array([-2.11087393470835, -5.79887822357116, -0.00189214757281966],\n",
              "      dtype=object)"
            ]
          },
          "metadata": {
            "tags": []
          },
          "execution_count": 186
        }
      ]
    },
    {
      "cell_type": "code",
      "metadata": {
        "colab": {
          "base_uri": "https://localhost:8080/",
          "height": 37
        },
        "id": "ZJo5h3nkIvIp",
        "outputId": "228add79-a441-4222-d018-ac2701c3a5f9"
      },
      "source": [
        "MSE.subs({x:next_point[0],y:next_point[1],z:next_point[2]})"
      ],
      "execution_count": 187,
      "outputs": [
        {
          "output_type": "execute_result",
          "data": {
            "text/latex": "$\\displaystyle 52.505859815885$",
            "text/plain": [
              "52.5058598158850"
            ]
          },
          "metadata": {
            "tags": []
          },
          "execution_count": 187
        }
      ]
    },
    {
      "cell_type": "code",
      "metadata": {
        "id": "MXbIfgkgJdKk"
      },
      "source": [
        ""
      ],
      "execution_count": 187,
      "outputs": []
    }
  ]
}