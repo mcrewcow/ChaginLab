{
  "nbformat": 4,
  "nbformat_minor": 0,
  "metadata": {
    "colab": {
      "name": "SkillboxMSEsubsgradient.ipynb",
      "provenance": [],
      "collapsed_sections": [],
      "authorship_tag": "ABX9TyO1D78FvfFddHA4SiTiSv48",
      "include_colab_link": true
    },
    "kernelspec": {
      "name": "python3",
      "display_name": "Python 3"
    },
    "language_info": {
      "name": "python"
    }
  },
  "cells": [
    {
      "cell_type": "markdown",
      "metadata": {
        "id": "view-in-github",
        "colab_type": "text"
      },
      "source": [
        "<a href=\"https://colab.research.google.com/github/mcrewcow/ChaginLab/blob/main/SkillboxMSEsubsgradient.ipynb\" target=\"_parent\"><img src=\"https://colab.research.google.com/assets/colab-badge.svg\" alt=\"Open In Colab\"/></a>"
      ]
    },
    {
      "cell_type": "code",
      "metadata": {
        "id": "Khj9Zb0RhEDr"
      },
      "source": [
        "import numpy as np"
      ],
      "execution_count": 1,
      "outputs": []
    },
    {
      "cell_type": "code",
      "metadata": {
        "colab": {
          "base_uri": "https://localhost:8080/"
        },
        "id": "aJ7EdAzGhLJi",
        "outputId": "13d66081-5d2a-4995-d589-fcfb82f3b44c"
      },
      "source": [
        "a = np.array([2,5,0,6,8,10,6,7,5,7])\n",
        "a\n",
        "print(*a)"
      ],
      "execution_count": 6,
      "outputs": [
        {
          "output_type": "stream",
          "text": [
            "2 5 0 6 8 10 6 7 5 7\n"
          ],
          "name": "stdout"
        }
      ]
    },
    {
      "cell_type": "code",
      "metadata": {
        "id": "fIV0hAOShahN"
      },
      "source": [
        "b = np.array([8,6,7,9,6,6,2,3,2,3])\n",
        "c = 3 * a * 2 * b"
      ],
      "execution_count": 7,
      "outputs": []
    },
    {
      "cell_type": "code",
      "metadata": {
        "colab": {
          "base_uri": "https://localhost:8080/"
        },
        "id": "vN4E4U0Mhu5B",
        "outputId": "bf05cb7b-d170-4e95-b9a3-7662fbbb2d88"
      },
      "source": [
        "print(*c)"
      ],
      "execution_count": 8,
      "outputs": [
        {
          "output_type": "stream",
          "text": [
            "96 180 0 324 288 360 72 126 60 126\n"
          ],
          "name": "stdout"
        }
      ]
    },
    {
      "cell_type": "code",
      "metadata": {
        "colab": {
          "base_uri": "https://localhost:8080/"
        },
        "id": "UM1e1CqDhvyX",
        "outputId": "809ac37e-d9b2-4006-9a92-fb9fc9e718b9"
      },
      "source": [
        "a = np.array([9,6,7,7,0,1,6,8,1,2])\n",
        "b = np.array([0,2,2,6,7,8,8,3,1,8])\n",
        "c = 6 * a * 5 * b\n",
        "print(*c)"
      ],
      "execution_count": 9,
      "outputs": [
        {
          "output_type": "stream",
          "text": [
            "0 360 420 1260 0 240 1440 720 30 480\n"
          ],
          "name": "stdout"
        }
      ]
    },
    {
      "cell_type": "code",
      "metadata": {
        "colab": {
          "base_uri": "https://localhost:8080/"
        },
        "id": "Rsoyt_50iDif",
        "outputId": "3cf5a459-df62-4064-9b2f-98c08b24aeac"
      },
      "source": [
        "a = np.array([2,5,0,6,8,10,6,7,5,7])\n",
        "b = np.array([8,6,7,9,6,6,2,3,2,3])\n",
        "print(*(a * b))"
      ],
      "execution_count": 10,
      "outputs": [
        {
          "output_type": "stream",
          "text": [
            "16 30 0 54 48 60 12 21 10 21\n"
          ],
          "name": "stdout"
        }
      ]
    },
    {
      "cell_type": "code",
      "metadata": {
        "colab": {
          "base_uri": "https://localhost:8080/"
        },
        "id": "5-ToOK3iiTfE",
        "outputId": "f73e1bfe-4275-4d81-a4f2-d28ed1282186"
      },
      "source": [
        "print(*(np.array([9,6,7,7,0,1,6,8,1,2]) * np.array([0,2,2,6,7,8,8,3,1,8])))"
      ],
      "execution_count": 11,
      "outputs": [
        {
          "output_type": "stream",
          "text": [
            "0 12 14 42 0 8 48 24 1 16\n"
          ],
          "name": "stdout"
        }
      ]
    },
    {
      "cell_type": "code",
      "metadata": {
        "colab": {
          "base_uri": "https://localhost:8080/"
        },
        "id": "gN1T30IBijL1",
        "outputId": "e85dff72-67c6-421b-8353-0c1a81b83377"
      },
      "source": [
        "m1 = np.array([[2,1,7,4],[5,6,7,3],[9,8,2,12],[11,14,15,15]])\n",
        "m1"
      ],
      "execution_count": 13,
      "outputs": [
        {
          "output_type": "execute_result",
          "data": {
            "text/plain": [
              "array([[ 2,  1,  7,  4],\n",
              "       [ 5,  6,  7,  3],\n",
              "       [ 9,  8,  2, 12],\n",
              "       [11, 14, 15, 15]])"
            ]
          },
          "metadata": {
            "tags": []
          },
          "execution_count": 13
        }
      ]
    },
    {
      "cell_type": "code",
      "metadata": {
        "colab": {
          "base_uri": "https://localhost:8080/"
        },
        "id": "nqOWCO3Ai5sU",
        "outputId": "abfe3c71-a69d-4ee5-d17b-d649fcb35154"
      },
      "source": [
        "print(*(m1.transpose()),sep = '\\n')"
      ],
      "execution_count": 16,
      "outputs": [
        {
          "output_type": "stream",
          "text": [
            "[ 2  5  9 11]\n",
            "[ 1  6  8 14]\n",
            "[ 7  7  2 15]\n",
            "[ 4  3 12 15]\n"
          ],
          "name": "stdout"
        }
      ]
    },
    {
      "cell_type": "code",
      "metadata": {
        "colab": {
          "base_uri": "https://localhost:8080/"
        },
        "id": "xkMoF1jwjDEY",
        "outputId": "738fd229-a70b-4f79-ac42-a441a7a5df06"
      },
      "source": [
        "m2 = np.array([[3,7,8,3,6],[2,5,9,4,13]])\n",
        "print(*(m2.transpose()),sep = '\\n')"
      ],
      "execution_count": 17,
      "outputs": [
        {
          "output_type": "stream",
          "text": [
            "[3 2]\n",
            "[7 5]\n",
            "[8 9]\n",
            "[3 4]\n",
            "[ 6 13]\n"
          ],
          "name": "stdout"
        }
      ]
    },
    {
      "cell_type": "code",
      "metadata": {
        "id": "ugDVNi8rjV3u"
      },
      "source": [
        "from sympy import *\n",
        "from sympy.plotting import plot\n",
        "init_printing(use_unicode=False, wrap_line=False, no_global=True)\n",
        "a1,a2 = symbols('a1,a2')\n",
        "MSE = 1/4*((1*a1 + 2*a2 - 5)**2 + (5*a1 + 3*a2 - 6)**2 + (2*a1 + 4*a2 - 10)**2 + (3*a1 + 7*a2 - 8)**2)"
      ],
      "execution_count": 20,
      "outputs": []
    },
    {
      "cell_type": "code",
      "metadata": {
        "colab": {
          "base_uri": "https://localhost:8080/",
          "height": 39
        },
        "id": "U8wJgxrljppg",
        "outputId": "1c96cdc5-4c12-45a5-8b65-fa1ad43a364d"
      },
      "source": [
        "MSE"
      ],
      "execution_count": 21,
      "outputs": [
        {
          "output_type": "execute_result",
          "data": {
            "image/png": "[encoded data removed]",
            "text/latex": "$\\displaystyle 0.25 \\left(a_{1} + 2 a_{2} - 5\\right)^{2} + 0.25 \\left(2 a_{1} + 4 a_{2} - 10\\right)^{2} + 0.25 \\left(3 a_{1} + 7 a_{2} - 8\\right)^{2} + 0.25 \\left(5 a_{1} + 3 a_{2} - 6\\right)^{2}$",
            "text/plain": [
              "                    2                          2                         2                         2\n",
              "0.25*(a1 + 2*a2 - 5)  + 0.25*(2*a1 + 4*a2 - 10)  + 0.25*(3*a1 + 7*a2 - 8)  + 0.25*(5*a1 + 3*a2 - 6) "
            ]
          },
          "metadata": {
            "tags": []
          },
          "execution_count": 21
        }
      ]
    },
    {
      "cell_type": "code",
      "metadata": {
        "id": "At2mD6E4jyWN"
      },
      "source": [
        "MSE.subs({a1:0.395, a2:0.62})\n",
        "MSEar = np.array([0.395,0.62])"
      ],
      "execution_count": 45,
      "outputs": []
    },
    {
      "cell_type": "code",
      "metadata": {
        "colab": {
          "base_uri": "https://localhost:8080/",
          "height": 38
        },
        "id": "UykOtxRGkAdt",
        "outputId": "4b568a72-a9ea-4856-a26c-3130b140d910"
      },
      "source": [
        "msef2 = diff(MSE,a2)\n",
        "msef2"
      ],
      "execution_count": 31,
      "outputs": [
        {
          "output_type": "execute_result",
          "data": {
            "image/png": "[encoded data removed]",
            "text/latex": "$\\displaystyle 23.0 a_{1} + 39.0 a_{2} - 62.0$",
            "text/plain": [
              "23.0*a1 + 39.0*a2 - 62.0"
            ]
          },
          "metadata": {
            "tags": []
          },
          "execution_count": 31
        }
      ]
    },
    {
      "cell_type": "code",
      "metadata": {
        "colab": {
          "base_uri": "https://localhost:8080/",
          "height": 38
        },
        "id": "rSdBl3nGkOmD",
        "outputId": "1d7d5456-36e5-4b30-c17d-463693686fb5"
      },
      "source": [
        "msef1 = diff(MSE,a1)\n",
        "msef1"
      ],
      "execution_count": 32,
      "outputs": [
        {
          "output_type": "execute_result",
          "data": {
            "image/png": "[encoded data removed]",
            "text/latex": "$\\displaystyle 19.5 a_{1} + 23.0 a_{2} - 39.5$",
            "text/plain": [
              "19.5*a1 + 23.0*a2 - 39.5"
            ]
          },
          "metadata": {
            "tags": []
          },
          "execution_count": 32
        }
      ]
    },
    {
      "cell_type": "code",
      "metadata": {
        "id": "-sTQgEREkbap"
      },
      "source": [
        "msearr = np.array([msef1,msef2])"
      ],
      "execution_count": 33,
      "outputs": []
    },
    {
      "cell_type": "code",
      "metadata": {
        "colab": {
          "base_uri": "https://localhost:8080/",
          "height": 162
        },
        "id": "g6au76q7lRgo",
        "outputId": "50b5c6d9-36aa-4344-c7dc-4ca483207677"
      },
      "source": [
        ""
      ],
      "execution_count": 37,
      "outputs": [
        {
          "output_type": "error",
          "ename": "AttributeError",
          "evalue": "ignored",
          "traceback": [
            "\u001b[0;31m---------------------------------------------------------------------------\u001b[0m",
            "\u001b[0;31mAttributeError\u001b[0m                            Traceback (most recent call last)",
            "\u001b[0;32m<ipython-input-37-8998c5caf13a>\u001b[0m in \u001b[0;36m<module>\u001b[0;34m()\u001b[0m\n\u001b[0;32m----> 1\u001b[0;31m \u001b[0mmsearr\u001b[0m\u001b[0;34m.\u001b[0m\u001b[0marray\u001b[0m\u001b[0;34m(\u001b[0m\u001b[0;34m[\u001b[0m\u001b[0;36m0.395\u001b[0m\u001b[0;34m,\u001b[0m\u001b[0;36m0.62\u001b[0m\u001b[0;34m]\u001b[0m\u001b[0;34m)\u001b[0m\u001b[0;34m\u001b[0m\u001b[0;34m\u001b[0m\u001b[0m\n\u001b[0m",
            "\u001b[0;31mAttributeError\u001b[0m: 'numpy.ndarray' object has no attribute 'array'"
          ]
        }
      ]
    },
    {
      "cell_type": "code",
      "metadata": {
        "colab": {
          "base_uri": "https://localhost:8080/",
          "height": 162
        },
        "id": "IDX91rQelUUe",
        "outputId": "4d913a99-1ad4-4f38-f4e9-10213543d40c"
      },
      "source": [
        ""
      ],
      "execution_count": 38,
      "outputs": [
        {
          "output_type": "error",
          "ename": "TypeError",
          "evalue": "ignored",
          "traceback": [
            "\u001b[0;31m---------------------------------------------------------------------------\u001b[0m",
            "\u001b[0;31mTypeError\u001b[0m                                 Traceback (most recent call last)",
            "\u001b[0;32m<ipython-input-38-2a84fbdbc507>\u001b[0m in \u001b[0;36m<module>\u001b[0;34m()\u001b[0m\n\u001b[0;32m----> 1\u001b[0;31m \u001b[0mmsef1\u001b[0m\u001b[0;34m(\u001b[0m\u001b[0;36m0.395\u001b[0m\u001b[0;34m)\u001b[0m\u001b[0;34m\u001b[0m\u001b[0;34m\u001b[0m\u001b[0m\n\u001b[0m",
            "\u001b[0;31mTypeError\u001b[0m: 'Add' object is not callable"
          ]
        }
      ]
    },
    {
      "cell_type": "code",
      "metadata": {
        "colab": {
          "base_uri": "https://localhost:8080/",
          "height": 37
        },
        "id": "3oVUnuMKln4N",
        "outputId": "89336b5c-719f-41b1-a604-8be921f7dce1"
      },
      "source": [
        "msef1.subs({a1:0.395, a2:0.62})"
      ],
      "execution_count": 41,
      "outputs": [
        {
          "output_type": "execute_result",
          "data": {
            "image/png": "[encoded data removed]",
            "text/latex": "$\\displaystyle -17.5375$",
            "text/plain": [
              "-17.5375000000000"
            ]
          },
          "metadata": {
            "tags": []
          },
          "execution_count": 41
        }
      ]
    },
    {
      "cell_type": "code",
      "metadata": {
        "colab": {
          "base_uri": "https://localhost:8080/",
          "height": 37
        },
        "id": "kmPdqGTrlpqt",
        "outputId": "3744d9cd-11e7-4203-cd9f-0b956b815171"
      },
      "source": [
        "msef2.subs({a1:0.395, a2:0.62})"
      ],
      "execution_count": 42,
      "outputs": [
        {
          "output_type": "execute_result",
          "data": {
            "image/png": "[encoded data removed]",
            "text/latex": "$\\displaystyle -28.735$",
            "text/plain": [
              "-28.7350000000000"
            ]
          },
          "metadata": {
            "tags": []
          },
          "execution_count": 42
        }
      ]
    },
    {
      "cell_type": "code",
      "metadata": {
        "colab": {
          "base_uri": "https://localhost:8080/"
        },
        "id": "kzXj8u74mEUz",
        "outputId": "fe373b67-5a93-4469-c3ce-5ae23998cb74"
      },
      "source": [
        "MSEar2 = np.array([msef1.subs({a1:0.395, a2:0.62}),msef2.subs({a1:0.395, a2:0.62})])\n",
        "MSEar2"
      ],
      "execution_count": 44,
      "outputs": [
        {
          "output_type": "execute_result",
          "data": {
            "text/plain": [
              "array([-17.5375000000000, -28.7350000000000], dtype=object)"
            ]
          },
          "metadata": {
            "tags": []
          },
          "execution_count": 44
        }
      ]
    },
    {
      "cell_type": "code",
      "metadata": {
        "colab": {
          "base_uri": "https://localhost:8080/"
        },
        "id": "vNN0O26imRea",
        "outputId": "2151645a-1a34-4271-b555-91aff2fa66b3"
      },
      "source": [
        "MSE2try = MSEar + 0.01 * (-MSEar2)\n",
        "MSE2try"
      ],
      "execution_count": 46,
      "outputs": [
        {
          "output_type": "execute_result",
          "data": {
            "text/plain": [
              "array([0.570375000000000, 0.907350000000000], dtype=object)"
            ]
          },
          "metadata": {
            "tags": []
          },
          "execution_count": 46
        }
      ]
    },
    {
      "cell_type": "code",
      "metadata": {
        "colab": {
          "base_uri": "https://localhost:8080/",
          "height": 37
        },
        "id": "GAV7W_F_m6i7",
        "outputId": "66d191df-2ae2-4918-bd8d-8320c5eabece"
      },
      "source": [
        "MSE.subs({a1: 0.57, a2: 0.91})"
      ],
      "execution_count": 48,
      "outputs": [
        {
          "output_type": "execute_result",
          "data": {
            "image/png": "[encoded data removed]",
            "text/latex": "$\\displaystyle 8.560825$",
            "text/plain": [
              "8.56082500000000"
            ]
          },
          "metadata": {
            "tags": []
          },
          "execution_count": 48
        }
      ]
    },
    {
      "cell_type": "code",
      "metadata": {
        "colab": {
          "base_uri": "https://localhost:8080/",
          "height": 37
        },
        "id": "ko-5rZ-snB-e",
        "outputId": "ec4b8e78-1d07-49d8-8b81-dae461d13f9f"
      },
      "source": [
        "msef1.subs({a1: 0.57, a2: 0.91})"
      ],
      "execution_count": 49,
      "outputs": [
        {
          "output_type": "execute_result",
          "data": {
            "image/png": "[encoded data removed]",
            "text/latex": "$\\displaystyle -7.455$",
            "text/plain": [
              "-7.45500000000000"
            ]
          },
          "metadata": {
            "tags": []
          },
          "execution_count": 49
        }
      ]
    },
    {
      "cell_type": "code",
      "metadata": {
        "colab": {
          "base_uri": "https://localhost:8080/",
          "height": 37
        },
        "id": "GwxKZJvlnO4L",
        "outputId": "505f738b-6f89-4dac-8362-d753bcd7e851"
      },
      "source": [
        "msef2.subs({a1: 0.57, a2: 0.91})"
      ],
      "execution_count": 50,
      "outputs": [
        {
          "output_type": "execute_result",
          "data": {
            "image/png": "[encoded data removed]",
            "text/latex": "$\\displaystyle -13.4$",
            "text/plain": [
              "-13.4000000000000"
            ]
          },
          "metadata": {
            "tags": []
          },
          "execution_count": 50
        }
      ]
    },
    {
      "cell_type": "code",
      "metadata": {
        "id": "qQVzZXxenRGA"
      },
      "source": [
        "MSEar3 = np.array([msef1.subs({a1: 0.57, a2: 0.91}),msef2.subs({a1: 0.57, a2: 0.91})])"
      ],
      "execution_count": 51,
      "outputs": []
    },
    {
      "cell_type": "code",
      "metadata": {
        "colab": {
          "base_uri": "https://localhost:8080/"
        },
        "id": "exC9zsSQnZHP",
        "outputId": "af11baec-e088-4f36-cef0-57be7e0bf660"
      },
      "source": [
        "MSEar3"
      ],
      "execution_count": 52,
      "outputs": [
        {
          "output_type": "execute_result",
          "data": {
            "text/plain": [
              "array([-7.45500000000000, -13.4000000000000], dtype=object)"
            ]
          },
          "metadata": {
            "tags": []
          },
          "execution_count": 52
        }
      ]
    },
    {
      "cell_type": "code",
      "metadata": {
        "colab": {
          "base_uri": "https://localhost:8080/"
        },
        "id": "WklXP_Danai1",
        "outputId": "46b5d4a0-f36b-4a14-ce14-839438339ec9"
      },
      "source": [
        "MSE3try =  MSEar + 0.01 * (-MSEar2) + 0.01 * (-MSEar3)\n",
        "MSE3try"
      ],
      "execution_count": 56,
      "outputs": [
        {
          "output_type": "execute_result",
          "data": {
            "text/plain": [
              "array([0.644925000000000, 1.04135000000000], dtype=object)"
            ]
          },
          "metadata": {
            "tags": []
          },
          "execution_count": 56
        }
      ]
    },
    {
      "cell_type": "code",
      "metadata": {
        "colab": {
          "base_uri": "https://localhost:8080/",
          "height": 37
        },
        "id": "0G6JLIyDnhr5",
        "outputId": "3c051f2e-9333-4556-cd5e-1837abcb47d4"
      },
      "source": [
        "MSE.subs({a1:0.645, a2:1.04})"
      ],
      "execution_count": 57,
      "outputs": [
        {
          "output_type": "execute_result",
          "data": {
            "image/png": "[encoded data removed]",
            "text/latex": "$\\displaystyle 6.86834375$",
            "text/plain": [
              "6.86834375000000"
            ]
          },
          "metadata": {
            "tags": []
          },
          "execution_count": 57
        }
      ]
    },
    {
      "cell_type": "code",
      "metadata": {
        "id": "sqX2jv5MnrmI"
      },
      "source": [
        "MSEar4 = np.array([msef1.subs({a1: 0.645, a2: 1.041}),msef2.subs({a1: 0.645, a2: 1.041})])"
      ],
      "execution_count": 58,
      "outputs": []
    },
    {
      "cell_type": "code",
      "metadata": {
        "colab": {
          "base_uri": "https://localhost:8080/"
        },
        "id": "tmu84z-Bn2We",
        "outputId": "426da97c-8997-4e25-daa3-421210b6fc95"
      },
      "source": [
        "MSEar4"
      ],
      "execution_count": 59,
      "outputs": [
        {
          "output_type": "execute_result",
          "data": {
            "text/plain": [
              "array([-2.97950000000000, -6.56600000000000], dtype=object)"
            ]
          },
          "metadata": {
            "tags": []
          },
          "execution_count": 59
        }
      ]
    },
    {
      "cell_type": "code",
      "metadata": {
        "colab": {
          "base_uri": "https://localhost:8080/"
        },
        "id": "gRVazg1pn3jv",
        "outputId": "a79e9adb-ef96-4385-e6c3-c445530fefb9"
      },
      "source": [
        "MSE4try =  MSEar + 0.01 * (-MSEar2) + 0.01 * (-MSEar3) + 0.01 * (-MSEar4)\n",
        "MSE4try"
      ],
      "execution_count": 60,
      "outputs": [
        {
          "output_type": "execute_result",
          "data": {
            "text/plain": [
              "array([0.674720000000000, 1.10701000000000], dtype=object)"
            ]
          },
          "metadata": {
            "tags": []
          },
          "execution_count": 60
        }
      ]
    },
    {
      "cell_type": "code",
      "metadata": {
        "colab": {
          "base_uri": "https://localhost:8080/",
          "height": 37
        },
        "id": "ScbBuiJJn744",
        "outputId": "d03d9d41-47fe-4e95-ead4-57d1f3c41694"
      },
      "source": [
        "MSE.subs({a1:0.674, a2:1.1})"
      ],
      "execution_count": 61,
      "outputs": [
        {
          "output_type": "execute_result",
          "data": {
            "image/png": "[encoded data removed]",
            "text/latex": "$\\displaystyle 6.503391$",
            "text/plain": [
              "6.50339100000000"
            ]
          },
          "metadata": {
            "tags": []
          },
          "execution_count": 61
        }
      ]
    },
    {
      "cell_type": "code",
      "metadata": {
        "colab": {
          "base_uri": "https://localhost:8080/"
        },
        "id": "nUpnGn1JoCcc",
        "outputId": "979f2fbe-6412-477c-a7cb-13e81068d5f3"
      },
      "source": [
        "MSEar5 = np.array([msef1.subs({a1: 0.674, a2: 1.1}),msef2.subs({a1: 0.674, a2: 1.1})])\n",
        "MSEar5"
      ],
      "execution_count": 62,
      "outputs": [
        {
          "output_type": "execute_result",
          "data": {
            "text/plain": [
              "array([-1.05700000000000, -3.59799999999999], dtype=object)"
            ]
          },
          "metadata": {
            "tags": []
          },
          "execution_count": 62
        }
      ]
    },
    {
      "cell_type": "code",
      "metadata": {
        "colab": {
          "base_uri": "https://localhost:8080/"
        },
        "id": "2jmGtVJooKlW",
        "outputId": "54987258-8499-44ea-e8d3-d0d08169199b"
      },
      "source": [
        "MSE5try =  MSEar + 0.01 * (-MSEar2) + 0.01 * (-MSEar3) + 0.01 * (-MSEar4) + 0.01 *(-MSEar5)\n",
        "MSE5try"
      ],
      "execution_count": 63,
      "outputs": [
        {
          "output_type": "execute_result",
          "data": {
            "text/plain": [
              "array([0.685290000000000, 1.14299000000000], dtype=object)"
            ]
          },
          "metadata": {
            "tags": []
          },
          "execution_count": 63
        }
      ]
    },
    {
      "cell_type": "code",
      "metadata": {
        "colab": {
          "base_uri": "https://localhost:8080/",
          "height": 37
        },
        "id": "DFsscf1ooPJX",
        "outputId": "f03018e8-8a02-4bad-c659-88af75f1e346"
      },
      "source": [
        "MSE.subs({a1:0.685,a2:1.142})"
      ],
      "execution_count": 64,
      "outputs": [
        {
          "output_type": "execute_result",
          "data": {
            "image/png": "[encoded data removed]",
            "text/latex": "$\\displaystyle 6.38685175$",
            "text/plain": [
              "6.38685175000000"
            ]
          },
          "metadata": {
            "tags": []
          },
          "execution_count": 64
        }
      ]
    },
    {
      "cell_type": "code",
      "metadata": {
        "colab": {
          "base_uri": "https://localhost:8080/"
        },
        "id": "slXfWvKwoTiU",
        "outputId": "54b76708-0969-41d6-9ef9-4e0510840b74"
      },
      "source": [
        "MSEar6 = np.array([msef1.subs({a1: 0.685, a2: 1.142}),msef2.subs({a1: 0.685, a2: 1.142})])\n",
        "MSEar6"
      ],
      "execution_count": 65,
      "outputs": [
        {
          "output_type": "execute_result",
          "data": {
            "text/plain": [
              "array([0.123500000000000, -1.70700000000000], dtype=object)"
            ]
          },
          "metadata": {
            "tags": []
          },
          "execution_count": 65
        }
      ]
    },
    {
      "cell_type": "code",
      "metadata": {
        "colab": {
          "base_uri": "https://localhost:8080/"
        },
        "id": "mM5yMERgob04",
        "outputId": "b67a33c6-ba65-42f9-cfa6-d82ee6b2a77d"
      },
      "source": [
        "MSE6try =  MSEar + 0.01 * (-MSEar2) + 0.01 * (-MSEar3) + 0.01 * (-MSEar4) + 0.01 *(-MSEar5) + 0.01 * (-MSEar6)\n",
        "MSE6try"
      ],
      "execution_count": 66,
      "outputs": [
        {
          "output_type": "execute_result",
          "data": {
            "text/plain": [
              "array([0.684055000000000, 1.16006000000000], dtype=object)"
            ]
          },
          "metadata": {
            "tags": []
          },
          "execution_count": 66
        }
      ]
    },
    {
      "cell_type": "code",
      "metadata": {
        "colab": {
          "base_uri": "https://localhost:8080/",
          "height": 37
        },
        "id": "3mSZpddxoflp",
        "outputId": "2e8efde9-92f4-4c76-8257-ede203cc212c"
      },
      "source": [
        "MSE.subs({a1:0.684,a2:1.16})"
      ],
      "execution_count": 67,
      "outputs": [
        {
          "output_type": "execute_result",
          "data": {
            "image/png": "[encoded data removed]",
            "text/latex": "$\\displaystyle 6.361916$",
            "text/plain": [
              "6.36191600000000"
            ]
          },
          "metadata": {
            "tags": []
          },
          "execution_count": 67
        }
      ]
    },
    {
      "cell_type": "code",
      "metadata": {
        "colab": {
          "base_uri": "https://localhost:8080/"
        },
        "id": "BpBQru4mojSn",
        "outputId": "1f7c3d71-315a-4e12-cb31-64fc5b421b47"
      },
      "source": [
        "MSEar7 = np.array([msef1.subs({a1: 0.684, a2: 1.16}),msef2.subs({a1: 0.684, a2: 1.16})])\n",
        "MSEar7"
      ],
      "execution_count": 68,
      "outputs": [
        {
          "output_type": "execute_result",
          "data": {
            "text/plain": [
              "array([0.518000000000001, -1.02800000000001], dtype=object)"
            ]
          },
          "metadata": {
            "tags": []
          },
          "execution_count": 68
        }
      ]
    },
    {
      "cell_type": "code",
      "metadata": {
        "colab": {
          "base_uri": "https://localhost:8080/"
        },
        "id": "BbU79a_3orlx",
        "outputId": "0ff4109c-c790-42b8-b873-25c2ee49eea4"
      },
      "source": [
        "MSE7try =  MSEar + 0.01 * (-MSEar2) + 0.01 * (-MSEar3) + 0.01 * (-MSEar4) + 0.01 *(-MSEar5) + 0.01 * (-MSEar6) + 0.01 * (-MSEar7)\n",
        "MSE7try"
      ],
      "execution_count": 69,
      "outputs": [
        {
          "output_type": "execute_result",
          "data": {
            "text/plain": [
              "array([0.678875000000000, 1.17034000000000], dtype=object)"
            ]
          },
          "metadata": {
            "tags": []
          },
          "execution_count": 69
        }
      ]
    },
    {
      "cell_type": "code",
      "metadata": {
        "colab": {
          "base_uri": "https://localhost:8080/",
          "height": 37
        },
        "id": "lIcldBG0oyik",
        "outputId": "9da31d0b-0375-4869-e893-8edfdb457396"
      },
      "source": [
        "MSE.subs({a1:0.678,a2:1.17})"
      ],
      "execution_count": 70,
      "outputs": [
        {
          "output_type": "execute_result",
          "data": {
            "image/png": "[encoded data removed]",
            "text/latex": "$\\displaystyle 6.349449$",
            "text/plain": [
              "6.34944900000000"
            ]
          },
          "metadata": {
            "tags": []
          },
          "execution_count": 70
        }
      ]
    },
    {
      "cell_type": "code",
      "metadata": {
        "id": "rg5iL9pvo21c"
      },
      "source": [
        ""
      ],
      "execution_count": null,
      "outputs": []
    }
  ]
}